{
  "cells": [
    {
      "cell_type": "markdown",
      "id": "8ac223b8",
      "metadata": {
        "id": "8ac223b8"
      },
      "source": [
        "# Intégration numérique\n",
        "\n",
        "Pour le réaliser sans installation, depuis un navigateur :\n",
        "<a href=\"https://colab.research.google.com/github/eddes/INSA/blob/main/python/tuto_integration.ipynb\"> ça se passe ici<a>\n",
        "\n",
        "On peut distinguer deux cas d'intégration : le cas où la fonction analytique est connue (par exemple l'énergie spectrale du spectre solaire) et celui - le plus courant - où elle est inconnue, par exemple lorsqu'on souhaite intégrer des mesures.\n",
        "\n",
        "\n",
        "\n",
        "## Intégration d'une fonction analytique\n",
        "    \n",
        "Le calcul de l'énergie $E = \\int P.dt$ peut se faire numériquement (ouf). Pour cela il y a diverses méthodes d'intégration (<a href=\"https://fr.wikipedia.org/wiki/Calcul_num%C3%A9rique_d%27une_int%C3%A9grale\">un rappel<a>).\n",
        "    \n",
        "Prenons l'exemple de la fonction $f(x)=x$ décrit ci-dessous."
      ]
    },
    {
      "cell_type": "code",
      "execution_count": 2,
      "id": "f4701329",
      "metadata": {
        "id": "f4701329",
        "outputId": "60771ebb-0624-492a-fc8b-ab80b03d0741",
        "colab": {
          "base_uri": "https://localhost:8080/"
        }
      },
      "outputs": [
        {
          "output_type": "stream",
          "name": "stdout",
          "text": [
            "et l'intégrale de y=x entre 0 et 1 vaut... 0.5\n"
          ]
        }
      ],
      "source": [
        "# l'import de la librairie qui fait ce genre de choses\n",
        "import scipy.integrate as integrate\n",
        "\n",
        "# on définit la fonction à intégrer\n",
        "def fc_interp(x):\n",
        "    return x\n",
        "\n",
        "E = integrate.quad(lambda x: fc_interp(x), 0, 1)[0]\n",
        "print(\"et l'intégrale de y=x entre 0 et 1 vaut...\", E)"
      ]
    },
    {
      "cell_type": "markdown",
      "id": "43b32c79",
      "metadata": {
        "id": "43b32c79"
      },
      "source": [
        "<span style=\"color:green\"> *À vous de jouer : calculez l'intégrale de $f(x)=x^3 +2$ entre $0$ et $1$ puis vérifiez la valeur analytiquement.* </span>"
      ]
    },
    {
      "cell_type": "code",
      "execution_count": 3,
      "id": "8c6c9d5a",
      "metadata": {
        "id": "8c6c9d5a",
        "outputId": "a018345f-5ef2-4723-c9a1-4646fffc043b",
        "colab": {
          "base_uri": "https://localhost:8080/"
        }
      },
      "outputs": [
        {
          "output_type": "stream",
          "name": "stdout",
          "text": [
            "et l'intégrale de x**3+2 entre 0 et 1 vaut... 2.25\n"
          ]
        }
      ],
      "source": [
        "import scipy.integrate as integrate\n",
        "\n",
        "# on définit la fonction à intégrer\n",
        "def fc_interp(x):\n",
        "    return x**3+2\n",
        "\n",
        "E = integrate.quad(lambda x: fc_interp(x), 0, 1)[0]\n",
        "print(\"et l'intégrale de x**3+2 entre 0 et 1 vaut...\", E)\n"
      ]
    },
    {
      "cell_type": "markdown",
      "id": "bf370b7a",
      "metadata": {
        "id": "bf370b7a"
      },
      "source": [
        "\n",
        "\n",
        "```\n",
        "# Ce texte est au format code\n",
        "```\n",
        "\n",
        "<span style=\"color:green\"> *Bonus : calculez l'énergie contenue dans le spectre solaire (<a href=\"https://eddes.github.io/#numerical-integration\">une piste<a>).* </span>"
      ]
    },
    {
      "cell_type": "markdown",
      "id": "496e5eb3",
      "metadata": {
        "id": "496e5eb3"
      },
      "source": [
        "## Intégration de mesures\n",
        "\n",
        "Il est évidemment plus courant de travailler avec des points mesurés, et non avec des fonctions analytiques connues comme ci-avant. Afin de pouvoir utiliser la procédure vue ci-dessus, l'astuce consiste à créer une fonction qui interpole à partir des données (ce sera une interpolation linéaire).\n",
        "\n",
        "### Faire une fonction d'interpolation\n",
        "\n",
        "Prenons un exemple très simple pour nous mettre dans le bain :"
      ]
    },
    {
      "cell_type": "code",
      "execution_count": 5,
      "id": "363f46b4-0ab9-4c8f-a2fe-a1afa5e262b7",
      "metadata": {
        "scrolled": true,
        "id": "363f46b4-0ab9-4c8f-a2fe-a1afa5e262b7",
        "outputId": "9f72273d-952d-4346-d91e-9a4febfe21ba",
        "colab": {
          "base_uri": "https://localhost:8080/",
          "height": 430
        }
      },
      "outputs": [
        {
          "output_type": "display_data",
          "data": {
            "text/plain": [
              "<Figure size 640x480 with 1 Axes>"
            ],
            "image/png": "[encoded data removed]"
          },
          "metadata": {}
        }
      ],
      "source": [
        "import matplotlib.pyplot as plt\n",
        "from scipy.interpolate import interp1d\n",
        "# les donnees mesurees\n",
        "temps = [0, 2, 10] # en heures\n",
        "puissance = [0, 4, 100] # en Watts\n",
        "plt.plot(temps,puissance, 'o', label='mesure')\n",
        "\n",
        "import scipy.interpolate # package d'interpolation\n",
        "\n",
        "# creation fc d'interpolation a partir des donnees\n",
        "fc_interp = scipy.interpolate.interp1d(temps, puissance)"
      ]
    },
    {
      "cell_type": "markdown",
      "id": "ab0d9594-052a-4057-90e3-840dca281ab7",
      "metadata": {
        "id": "ab0d9594-052a-4057-90e3-840dca281ab7"
      },
      "source": [
        "Ensuite on vérifie que notre interpolation est bonne et on integre avec le package scipy"
      ]
    },
    {
      "cell_type": "code",
      "execution_count": 9,
      "id": "24d043fc-68a1-4709-b94b-f6e657c7fd73",
      "metadata": {
        "id": "24d043fc-68a1-4709-b94b-f6e657c7fd73",
        "outputId": "cef2b8c1-bf09-4278-cc0e-5b584fc34cf6",
        "colab": {
          "base_uri": "https://localhost:8080/",
          "height": 447
        }
      },
      "outputs": [
        {
          "output_type": "stream",
          "name": "stdout",
          "text": [
            "L'energie vaut...  (371.4999993958044, 1.4465165349974995e-06)  [Wh]\n"
          ]
        },
        {
          "output_type": "display_data",
          "data": {
            "text/plain": [
              "<Figure size 640x480 with 1 Axes>"
            ],
            "image/png": "[encoded data removed]"
          },
          "metadata": {}
        }
      ],
      "source": [
        "import matplotlib.pyplot as plt\n",
        "import numpy as np\n",
        "\n",
        "#dessus\n",
        "from scipy.interpolate import interp1d\n",
        "# les donnees mesurees\n",
        "temps = [0, 2, 10] # en heures\n",
        "puissance = [0, 4, 100] # en Watts\n",
        "plt.plot(temps,puissance, 'o', label='mesure')\n",
        "\n",
        "import scipy.interpolate # package d'interpolation\n",
        "\n",
        "# creation fc d'interpolation a partir des donnees\n",
        "fc_interp = scipy.interpolate.interp1d(temps, puissance)\n",
        "\n",
        "#dessus\n",
        "\n",
        "temps_regulier = np.arange(0,10,0.5)\n",
        "p_regulier=fc_interp(temps_regulier)\n",
        "\n",
        "#plt.plot(x,y,'o', label='mesure')\n",
        "plt.plot(temps_regulier ,p_regulier, '--', label='interpolation')\n",
        "plt.legend()\n",
        "\n",
        "#... et on integre\n",
        "import scipy.integrate as integrate\n",
        "energie = integrate.quad(lambda temps_regulier : fc_interp(temps_regulier), min(temps_regulier ), max(temps_regulier))\n",
        "print(\"L'energie vaut... \", energie, \" [Wh]\")"
      ]
    },
    {
      "cell_type": "markdown",
      "id": "48908865-f052-42a8-9b91-02f588459a0e",
      "metadata": {
        "id": "48908865-f052-42a8-9b91-02f588459a0e"
      },
      "source": [
        "\n",
        "\n",
        "> Ajouter une citation\n",
        "\n",
        "\n",
        "### Application sur données rélles\n",
        "\n",
        "Dans le cas présent, les données mesurées sont un débit d'eau sur un réseau de chaleur en m3/h avec les températures et le temps (<a href=\"https://github.com/eddes/INSA/blob/main/Techniques_numeriques/debit_dt.csv\">c'est ici<a>).\n",
        "\n",
        "On appliquera donc la formule $P = \\rho Q_v C_p (T_c - T_f) $ pour calculer la puissance, avec $C_p=4200$ [J/kg/K] et $\\rho=1000$ [kg/m$^3$]. Ensuite il va falloir intégrer !"
      ]
    },
    {
      "cell_type": "code",
      "execution_count": 1,
      "id": "3c501f70",
      "metadata": {
        "id": "3c501f70",
        "outputId": "93faf443-4099-4588-ecdb-f7510ed8e610",
        "colab": {
          "base_uri": "https://localhost:8080/",
          "height": 356
        }
      },
      "outputs": [
        {
          "output_type": "error",
          "ename": "FileNotFoundError",
          "evalue": "[Errno 2] No such file or directory: 'debit_dt.csv'",
          "traceback": [
            "\u001b[0;31m---------------------------------------------------------------------------\u001b[0m",
            "\u001b[0;31mFileNotFoundError\u001b[0m                         Traceback (most recent call last)",
            "\u001b[0;32m<ipython-input-1-0a63956f94aa>\u001b[0m in \u001b[0;36m<cell line: 0>\u001b[0;34m()\u001b[0m\n\u001b[1;32m      5\u001b[0m \u001b[0;34m\u001b[0m\u001b[0m\n\u001b[1;32m      6\u001b[0m \u001b[0;31m#on va lire le fichier csv\u001b[0m\u001b[0;34m\u001b[0m\u001b[0;34m\u001b[0m\u001b[0m\n\u001b[0;32m----> 7\u001b[0;31m \u001b[0mdf\u001b[0m \u001b[0;34m=\u001b[0m \u001b[0mpd\u001b[0m\u001b[0;34m.\u001b[0m\u001b[0mread_csv\u001b[0m\u001b[0;34m(\u001b[0m\u001b[0;34m\"debit_dt.csv\"\u001b[0m\u001b[0;34m,\u001b[0m \u001b[0musecols\u001b[0m\u001b[0;34m=\u001b[0m\u001b[0;34m[\u001b[0m\u001b[0;34m\"Timestamp\"\u001b[0m\u001b[0;34m,\u001b[0m \u001b[0;34m\"Debit\"\u001b[0m\u001b[0;34m,\u001b[0m \u001b[0;34m\"T aller\"\u001b[0m\u001b[0;34m,\u001b[0m \u001b[0;34m\"T retour\"\u001b[0m\u001b[0;34m]\u001b[0m\u001b[0;34m)\u001b[0m\u001b[0;34m\u001b[0m\u001b[0;34m\u001b[0m\u001b[0m\n\u001b[0m\u001b[1;32m      8\u001b[0m \u001b[0mprint\u001b[0m\u001b[0;34m(\u001b[0m\u001b[0mdf\u001b[0m\u001b[0;34m)\u001b[0m\u001b[0;34m\u001b[0m\u001b[0;34m\u001b[0m\u001b[0m\n\u001b[1;32m      9\u001b[0m \u001b[0;34m\u001b[0m\u001b[0m\n",
            "\u001b[0;32m/usr/local/lib/python3.11/dist-packages/pandas/io/parsers/readers.py\u001b[0m in \u001b[0;36mread_csv\u001b[0;34m(filepath_or_buffer, sep, delimiter, header, names, index_col, usecols, dtype, engine, converters, true_values, false_values, skipinitialspace, skiprows, skipfooter, nrows, na_values, keep_default_na, na_filter, verbose, skip_blank_lines, parse_dates, infer_datetime_format, keep_date_col, date_parser, date_format, dayfirst, cache_dates, iterator, chunksize, compression, thousands, decimal, lineterminator, quotechar, quoting, doublequote, escapechar, comment, encoding, encoding_errors, dialect, on_bad_lines, delim_whitespace, low_memory, memory_map, float_precision, storage_options, dtype_backend)\u001b[0m\n\u001b[1;32m   1024\u001b[0m     \u001b[0mkwds\u001b[0m\u001b[0;34m.\u001b[0m\u001b[0mupdate\u001b[0m\u001b[0;34m(\u001b[0m\u001b[0mkwds_defaults\u001b[0m\u001b[0;34m)\u001b[0m\u001b[0;34m\u001b[0m\u001b[0;34m\u001b[0m\u001b[0m\n\u001b[1;32m   1025\u001b[0m \u001b[0;34m\u001b[0m\u001b[0m\n\u001b[0;32m-> 1026\u001b[0;31m     \u001b[0;32mreturn\u001b[0m \u001b[0m_read\u001b[0m\u001b[0;34m(\u001b[0m\u001b[0mfilepath_or_buffer\u001b[0m\u001b[0;34m,\u001b[0m \u001b[0mkwds\u001b[0m\u001b[0;34m)\u001b[0m\u001b[0;34m\u001b[0m\u001b[0;34m\u001b[0m\u001b[0m\n\u001b[0m\u001b[1;32m   1027\u001b[0m \u001b[0;34m\u001b[0m\u001b[0m\n\u001b[1;32m   1028\u001b[0m \u001b[0;34m\u001b[0m\u001b[0m\n",
            "\u001b[0;32m/usr/local/lib/python3.11/dist-packages/pandas/io/parsers/readers.py\u001b[0m in \u001b[0;36m_read\u001b[0;34m(filepath_or_buffer, kwds)\u001b[0m\n\u001b[1;32m    618\u001b[0m \u001b[0;34m\u001b[0m\u001b[0m\n\u001b[1;32m    619\u001b[0m     \u001b[0;31m# Create the parser.\u001b[0m\u001b[0;34m\u001b[0m\u001b[0;34m\u001b[0m\u001b[0m\n\u001b[0;32m--> 620\u001b[0;31m     \u001b[0mparser\u001b[0m \u001b[0;34m=\u001b[0m \u001b[0mTextFileReader\u001b[0m\u001b[0;34m(\u001b[0m\u001b[0mfilepath_or_buffer\u001b[0m\u001b[0;34m,\u001b[0m \u001b[0;34m**\u001b[0m\u001b[0mkwds\u001b[0m\u001b[0;34m)\u001b[0m\u001b[0;34m\u001b[0m\u001b[0;34m\u001b[0m\u001b[0m\n\u001b[0m\u001b[1;32m    621\u001b[0m \u001b[0;34m\u001b[0m\u001b[0m\n\u001b[1;32m    622\u001b[0m     \u001b[0;32mif\u001b[0m \u001b[0mchunksize\u001b[0m \u001b[0;32mor\u001b[0m \u001b[0miterator\u001b[0m\u001b[0;34m:\u001b[0m\u001b[0;34m\u001b[0m\u001b[0;34m\u001b[0m\u001b[0m\n",
            "\u001b[0;32m/usr/local/lib/python3.11/dist-packages/pandas/io/parsers/readers.py\u001b[0m in \u001b[0;36m__init__\u001b[0;34m(self, f, engine, **kwds)\u001b[0m\n\u001b[1;32m   1618\u001b[0m \u001b[0;34m\u001b[0m\u001b[0m\n\u001b[1;32m   1619\u001b[0m         \u001b[0mself\u001b[0m\u001b[0;34m.\u001b[0m\u001b[0mhandles\u001b[0m\u001b[0;34m:\u001b[0m \u001b[0mIOHandles\u001b[0m \u001b[0;34m|\u001b[0m \u001b[0;32mNone\u001b[0m \u001b[0;34m=\u001b[0m \u001b[0;32mNone\u001b[0m\u001b[0;34m\u001b[0m\u001b[0;34m\u001b[0m\u001b[0m\n\u001b[0;32m-> 1620\u001b[0;31m         \u001b[0mself\u001b[0m\u001b[0;34m.\u001b[0m\u001b[0m_engine\u001b[0m \u001b[0;34m=\u001b[0m \u001b[0mself\u001b[0m\u001b[0;34m.\u001b[0m\u001b[0m_make_engine\u001b[0m\u001b[0;34m(\u001b[0m\u001b[0mf\u001b[0m\u001b[0;34m,\u001b[0m \u001b[0mself\u001b[0m\u001b[0;34m.\u001b[0m\u001b[0mengine\u001b[0m\u001b[0;34m)\u001b[0m\u001b[0;34m\u001b[0m\u001b[0;34m\u001b[0m\u001b[0m\n\u001b[0m\u001b[1;32m   1621\u001b[0m \u001b[0;34m\u001b[0m\u001b[0m\n\u001b[1;32m   1622\u001b[0m     \u001b[0;32mdef\u001b[0m \u001b[0mclose\u001b[0m\u001b[0;34m(\u001b[0m\u001b[0mself\u001b[0m\u001b[0;34m)\u001b[0m \u001b[0;34m->\u001b[0m \u001b[0;32mNone\u001b[0m\u001b[0;34m:\u001b[0m\u001b[0;34m\u001b[0m\u001b[0;34m\u001b[0m\u001b[0m\n",
            "\u001b[0;32m/usr/local/lib/python3.11/dist-packages/pandas/io/parsers/readers.py\u001b[0m in \u001b[0;36m_make_engine\u001b[0;34m(self, f, engine)\u001b[0m\n\u001b[1;32m   1878\u001b[0m                 \u001b[0;32mif\u001b[0m \u001b[0;34m\"b\"\u001b[0m \u001b[0;32mnot\u001b[0m \u001b[0;32min\u001b[0m \u001b[0mmode\u001b[0m\u001b[0;34m:\u001b[0m\u001b[0;34m\u001b[0m\u001b[0;34m\u001b[0m\u001b[0m\n\u001b[1;32m   1879\u001b[0m                     \u001b[0mmode\u001b[0m \u001b[0;34m+=\u001b[0m \u001b[0;34m\"b\"\u001b[0m\u001b[0;34m\u001b[0m\u001b[0;34m\u001b[0m\u001b[0m\n\u001b[0;32m-> 1880\u001b[0;31m             self.handles = get_handle(\n\u001b[0m\u001b[1;32m   1881\u001b[0m                 \u001b[0mf\u001b[0m\u001b[0;34m,\u001b[0m\u001b[0;34m\u001b[0m\u001b[0;34m\u001b[0m\u001b[0m\n\u001b[1;32m   1882\u001b[0m                 \u001b[0mmode\u001b[0m\u001b[0;34m,\u001b[0m\u001b[0;34m\u001b[0m\u001b[0;34m\u001b[0m\u001b[0m\n",
            "\u001b[0;32m/usr/local/lib/python3.11/dist-packages/pandas/io/common.py\u001b[0m in \u001b[0;36mget_handle\u001b[0;34m(path_or_buf, mode, encoding, compression, memory_map, is_text, errors, storage_options)\u001b[0m\n\u001b[1;32m    871\u001b[0m         \u001b[0;32mif\u001b[0m \u001b[0mioargs\u001b[0m\u001b[0;34m.\u001b[0m\u001b[0mencoding\u001b[0m \u001b[0;32mand\u001b[0m \u001b[0;34m\"b\"\u001b[0m \u001b[0;32mnot\u001b[0m \u001b[0;32min\u001b[0m \u001b[0mioargs\u001b[0m\u001b[0;34m.\u001b[0m\u001b[0mmode\u001b[0m\u001b[0;34m:\u001b[0m\u001b[0;34m\u001b[0m\u001b[0;34m\u001b[0m\u001b[0m\n\u001b[1;32m    872\u001b[0m             \u001b[0;31m# Encoding\u001b[0m\u001b[0;34m\u001b[0m\u001b[0;34m\u001b[0m\u001b[0m\n\u001b[0;32m--> 873\u001b[0;31m             handle = open(\n\u001b[0m\u001b[1;32m    874\u001b[0m                 \u001b[0mhandle\u001b[0m\u001b[0;34m,\u001b[0m\u001b[0;34m\u001b[0m\u001b[0;34m\u001b[0m\u001b[0m\n\u001b[1;32m    875\u001b[0m                 \u001b[0mioargs\u001b[0m\u001b[0;34m.\u001b[0m\u001b[0mmode\u001b[0m\u001b[0;34m,\u001b[0m\u001b[0;34m\u001b[0m\u001b[0;34m\u001b[0m\u001b[0m\n",
            "\u001b[0;31mFileNotFoundError\u001b[0m: [Errno 2] No such file or directory: 'debit_dt.csv'"
          ]
        }
      ],
      "source": [
        "import scipy.interpolate # package d'interpolation\n",
        "# les donnees mesurees\n",
        "#temps = ...\n",
        "#puissance = ...\n",
        "# creation fc d'interpolation a partir des donnees\n",
        "fc_interp = scipy.interpolate.interp1d(x, y)\n",
        "\n",
        "\n",
        "# mon code\n",
        "\n",
        "\n",
        "import matplotlib.pyplot as plt\n",
        "import numpy as np\n",
        "import scipy.interpolate\n",
        "import pandas as pd\n",
        "import scipy.integrate as integrate\n",
        "\n",
        "# Lire les données CSV\n",
        "df = pd.read_csv(\"debit_dt.csv\", usecols=[\"Timestamp\", \"Debit [m3/h]\", \"T aller\", \"T retour\"])\n",
        "\n",
        "# Définition des constantes physiques\n",
        "ro = 1000\n",
        "Cp = 4200\n",
        "\n",
        "# Calcul de la puissance\n",
        "df[\"Puissance (W)\"] = ro * Cp * (df[\"Debit [m3/h]\"]) * (df[\"T aller\"] - df[\"T retour\"])\n",
        "\n",
        "# Extraction des valeurs de temps et de puissance\n",
        "temps = df[\"Timestamp\"].values\n",
        "puissance = df[\"Puissance (W)\"].values\n",
        "\n",
        "# Affichage des données mesurées\n",
        "plt.plot(temps, puissance, 'o', label='Mesures')\n",
        "plt.xlabel(\"Temps (secondes)\")\n",
        "plt.ylabel(\"Puissance (W)\")\n",
        "plt.legend()\n",
        "plt.show()\n",
        "\n",
        "# Création de la fonction d'interpolation\n",
        "fc_interp = scipy.interpolate.interp1d(temps, puissance)\n",
        "\n",
        "# Création du temps régulier avec 100 points\n",
        "temps_regulier = np.linspace(df[\"Timestamp\"].min(), df[\"Timestamp\"].max())\n",
        "p_regulier = fc_interp(temps_regulier)\n",
        "\n",
        "# Affichage de l'interpolation\n",
        "plt.plot(temps, puissance, 'o', label='Mesures')\n",
        "plt.plot(temps_regulier, p_regulier, '--', label='Interpolation')\n",
        "plt.xlabel(\"Temps (secondes)\")\n",
        "plt.ylabel(\"Puissance (W)\")\n",
        "plt.legend()\n",
        "plt.show()\n",
        "\n",
        "#... et on integre\n",
        "import scipy.integrate as integrate\n",
        "energie = integrate.quad(lambda temps_regulier : fc_interp(temps_regulier), min(temps_regulier ), max(temps_regulier))\n",
        "print(\"L'energie vaut... \", energie, \" [Wh]\")"
      ]
    }
  ],
  "metadata": {
    "kernelspec": {
      "display_name": "Python 3 (ipykernel)",
      "language": "python",
      "name": "python3"
    },
    "language_info": {
      "codemirror_mode": {
        "name": "ipython",
        "version": 3
      },
      "file_extension": ".py",
      "mimetype": "text/x-python",
      "name": "python",
      "nbconvert_exporter": "python",
      "pygments_lexer": "ipython3",
      "version": "3.9.12"
    },
    "colab": {
      "provenance": []
    }
  },
  "nbformat": 4,
  "nbformat_minor": 5
}